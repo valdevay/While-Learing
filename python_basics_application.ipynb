{
 "cells": [
  {
   "cell_type": "code",
   "execution_count": 11,
   "metadata": {},
   "outputs": [
    {
     "data": {
      "text/plain": [
       "1346269"
      ]
     },
     "execution_count": 11,
     "metadata": {},
     "output_type": "execute_result"
    }
   ],
   "source": [
    "fib = lambda x : 1 if x <= 2 else fib(x - 1) + fib(x - 2)\n",
    "fib(31)"
   ]
  },
  {
   "cell_type": "code",
   "execution_count": 35,
   "metadata": {},
   "outputs": [
    {
     "ename": "TypeError",
     "evalue": "'dict' object is not callable",
     "output_type": "error",
     "traceback": [
      "\u001b[0;31m---------------------------------------------------------------------------\u001b[0m",
      "\u001b[0;31mTypeError\u001b[0m                                 Traceback (most recent call last)",
      "\u001b[1;32m/home/valdevay/Documents/git/While-Learing/python_basics_application.ipynb Cell 2\u001b[0m line \u001b[0;36m3\n\u001b[1;32m      <a href='vscode-notebook-cell:/home/valdevay/Documents/git/While-Learing/python_basics_application.ipynb#W1sZmlsZQ%3D%3D?line=0'>1</a>\u001b[0m objects \u001b[39m=\u001b[39m [\u001b[39m1\u001b[39m, \u001b[39m2\u001b[39m, \u001b[39m1\u001b[39m, \u001b[39m5\u001b[39m, \u001b[39mTrue\u001b[39;00m, \u001b[39mFalse\u001b[39;00m, \u001b[39mTrue\u001b[39;00m, \u001b[39m'\u001b[39m\u001b[39mfalse\u001b[39m\u001b[39m'\u001b[39m, [], [\u001b[39m1\u001b[39m,\u001b[39m2\u001b[39m], [\u001b[39m1\u001b[39m,\u001b[39m2\u001b[39m]]\n\u001b[0;32m----> <a href='vscode-notebook-cell:/home/valdevay/Documents/git/While-Learing/python_basics_application.ipynb#W1sZmlsZQ%3D%3D?line=2'>3</a>\u001b[0m \u001b[39mdict\u001b[39m \u001b[39m=\u001b[39m \u001b[39mdict\u001b[39;49m()\n\u001b[1;32m      <a href='vscode-notebook-cell:/home/valdevay/Documents/git/While-Learing/python_basics_application.ipynb#W1sZmlsZQ%3D%3D?line=4'>5</a>\u001b[0m \u001b[39mfor\u001b[39;00m obj \u001b[39min\u001b[39;00m objects:  \u001b[39m# доступная переменная objects\u001b[39;00m\n\u001b[1;32m      <a href='vscode-notebook-cell:/home/valdevay/Documents/git/While-Learing/python_basics_application.ipynb#W1sZmlsZQ%3D%3D?line=5'>6</a>\u001b[0m     \u001b[39mdict\u001b[39m[\u001b[39mid\u001b[39m(obj)] \u001b[39m=\u001b[39m obj\n",
      "\u001b[0;31mTypeError\u001b[0m: 'dict' object is not callable"
     ]
    }
   ],
   "source": [
    "objects = [1, 2, 1, 5, True, False, True, 'false', [], [1,2], [1,2]]\n",
    "\n",
    "dict = dict()\n",
    "\n",
    "for obj in objects:  # доступная переменная objects\n",
    "    dict[id(obj)] = obj\n",
    "    \n",
    "\n",
    "print(len(dict))\n",
    "print(dict)\n",
    "\n",
    "\n",
    "\n",
    "\n"
   ]
  }
 ],
 "metadata": {
  "kernelspec": {
   "display_name": "venv",
   "language": "python",
   "name": "python3"
  },
  "language_info": {
   "codemirror_mode": {
    "name": "ipython",
    "version": 3
   },
   "file_extension": ".py",
   "mimetype": "text/x-python",
   "name": "python",
   "nbconvert_exporter": "python",
   "pygments_lexer": "ipython3",
   "version": "3.11.2"
  }
 },
 "nbformat": 4,
 "nbformat_minor": 2
}
