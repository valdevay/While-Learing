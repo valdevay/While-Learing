{
 "cells": [
  {
   "cell_type": "markdown",
   "metadata": {},
   "source": [
    "- взять текст\n",
    "- поменять символы\n",
    "- проверить частоту символов\n",
    "- вывести текст\n",
    "\n",
    "\n",
    "Br Wocry, Mg Fyirls.\n",
    "Emecg gnhy mils.\n",
    "Br bnymvrdd, dtoervrdd, vijr xocry.\n",
    "Ynh ehc xocry ilcn o phe, ic qrpnmrd ctr phe.\n",
    "Ynh ehc xocry ilcn o qnccvr, ic qrpnmrd ctr qnccvr.\n",
    "Ynh ehc ic ilcn o croenc, ic qrpnmrd ctr croenc.\n",
    "Nnx xocry pol bvnx ny ic pol pyodt.\n",
    "Br xocry, mg byirls.\n",
    "\n",
    " = etaoinshrdlcumwfgypbvkjxqz"
   ]
  },
  {
   "cell_type": "code",
   "execution_count": 75,
   "metadata": {},
   "outputs": [
    {
     "ename": "TypeError",
     "evalue": "'dict' object is not callable",
     "output_type": "error",
     "traceback": [
      "\u001b[0;31m---------------------------------------------------------------------------\u001b[0m",
      "\u001b[0;31mTypeError\u001b[0m                                 Traceback (most recent call last)",
      "\u001b[1;32m/home/valdevay/Documents/git/While-Learing/python_basics_application.ipynb Cell 2\u001b[0m line \u001b[0;36m2\n\u001b[1;32m     <a href='vscode-notebook-cell:/home/valdevay/Documents/git/While-Learing/python_basics_application.ipynb#W3sZmlsZQ%3D%3D?line=25'>26</a>\u001b[0m most_popular \u001b[39m=\u001b[39m \u001b[39msorted\u001b[39m(count_symbols\u001b[39m.\u001b[39mitems(), key\u001b[39m=\u001b[39m\u001b[39mlambda\u001b[39;00m x: x[\u001b[39m1\u001b[39m], reverse\u001b[39m=\u001b[39m\u001b[39mTrue\u001b[39;00m)\n\u001b[1;32m     <a href='vscode-notebook-cell:/home/valdevay/Documents/git/While-Learing/python_basics_application.ipynb#W3sZmlsZQ%3D%3D?line=27'>28</a>\u001b[0m \u001b[39m# символы остортированные по частоте в виде строки\u001b[39;00m\n\u001b[0;32m---> <a href='vscode-notebook-cell:/home/valdevay/Documents/git/While-Learing/python_basics_application.ipynb#W3sZmlsZQ%3D%3D?line=28'>29</a>\u001b[0m letters_sorted \u001b[39m=\u001b[39m \u001b[39m\"\u001b[39m\u001b[39m\"\u001b[39m\u001b[39m.\u001b[39mjoin(\u001b[39mdict\u001b[39;49m(most_popular)\u001b[39m.\u001b[39mkeys())\n\u001b[1;32m     <a href='vscode-notebook-cell:/home/valdevay/Documents/git/While-Learing/python_basics_application.ipynb#W3sZmlsZQ%3D%3D?line=29'>30</a>\u001b[0m \u001b[39m#print(letters_sorted)\u001b[39;00m\n\u001b[1;32m     <a href='vscode-notebook-cell:/home/valdevay/Documents/git/While-Learing/python_basics_application.ipynb#W3sZmlsZQ%3D%3D?line=30'>31</a>\u001b[0m \n\u001b[1;32m     <a href='vscode-notebook-cell:/home/valdevay/Documents/git/While-Learing/python_basics_application.ipynb#W3sZmlsZQ%3D%3D?line=31'>32</a>\u001b[0m \u001b[39m# соотнести символы по количеству совпадений\u001b[39;00m\n\u001b[0;32m   (...)\u001b[0m\n\u001b[1;32m     <a href='vscode-notebook-cell:/home/valdevay/Documents/git/While-Learing/python_basics_application.ipynb#W3sZmlsZQ%3D%3D?line=39'>40</a>\u001b[0m \n\u001b[1;32m     <a href='vscode-notebook-cell:/home/valdevay/Documents/git/While-Learing/python_basics_application.ipynb#W3sZmlsZQ%3D%3D?line=40'>41</a>\u001b[0m \u001b[39m#decoding()\u001b[39;00m\n",
      "\u001b[0;31mTypeError\u001b[0m: 'dict' object is not callable"
     ]
    }
   ],
   "source": [
    "a = '''Br Wocry, Mg Fyirls.\n",
    "Emecg gnhy mils.\n",
    "Br bnymvrdd, dtoervrdd, vijr xocry.\n",
    "Ynh ehc xocry ilcn o phe, ic qrpnmrd ctr phe.\n",
    "Ynh ehc xocry ilcn o qnccvr, ic qrpnmrd ctr qnccvr.\n",
    "Ynh ehc ic ilcn o croenc, ic qrpnmrd ctr croenc.\n",
    "Nnx xocry pol bvnx ny ic pol pyodt.\n",
    "Br xocry, mg byirls.'''\n",
    "text = a.lower()\n",
    "\n",
    "en_al = 'abcdefghijklmnopqrstuvwxyz'\n",
    "\n",
    "count_symbols = {}\n",
    "\n",
    "# заполняем словарь нулевыми значениями\n",
    "for i in en_al:\n",
    "     count_symbols[i] = 0\n",
    "\n",
    "# считаем частоту символов в тексте\n",
    "for i in text:   \n",
    "    if i.isalpha():\n",
    "        count_symbols[i] += 1\n",
    "\n",
    "# сортируем символы по частоте\n",
    "most_popular = sorted(count_symbols.items(), key=lambda x: x[1], reverse=True)\n",
    "\n",
    "# символы остортированные по частоте в виде строки\n",
    "letters_sorted = \"\".join(dict(most_popular).keys())\n",
    "#print(letters_sorted)\n",
    "\n",
    "# соотнести символы по количеству совпадений\n",
    "\n",
    "\n",
    "#def decoding(text,symbols):\n",
    "#count_symbols\n",
    "   \n",
    "\n",
    "\n",
    "\n",
    "#decoding()"
   ]
  }
 ],
 "metadata": {
  "kernelspec": {
   "display_name": "venv",
   "language": "python",
   "name": "python3"
  },
  "language_info": {
   "codemirror_mode": {
    "name": "ipython",
    "version": 3
   },
   "file_extension": ".py",
   "mimetype": "text/x-python",
   "name": "python",
   "nbconvert_exporter": "python",
   "pygments_lexer": "ipython3",
   "version": "3.11.2"
  }
 },
 "nbformat": 4,
 "nbformat_minor": 2
}
