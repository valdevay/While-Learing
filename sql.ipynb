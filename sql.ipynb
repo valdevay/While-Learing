{
 "cells": [
  {
   "cell_type": "markdown",
   "metadata": {},
   "source": [
    "## АГРЕГАЦИЯ ДАННЫХ SQL"
   ]
  },
  {
   "cell_type": "code",
   "execution_count": null,
   "metadata": {},
   "outputs": [],
   "source": [
    "COUNT() – считает количество строк \n",
    "\n",
    "SUM()– считает сумму в рамках столбца  \n",
    "\n",
    "AVG()– считает среднее в рамках столбца \n",
    "\n",
    "MIN()– находит минимальное значение в рамках столбца\n",
    "\n",
    "MAX()– находит максимальное значение в рамках столбца\n",
    "\n",
    "GROUP BY - просуммировать покупки каждого пользователя по отдельности.\n",
    "\n",
    "WHERE - фильтрует данные или создает условие"
   ]
  },
  {
   "cell_type": "markdown",
   "metadata": {},
   "source": [
    "## PYTHON PANDAS"
   ]
  },
  {
   "cell_type": "code",
   "execution_count": null,
   "metadata": {},
   "outputs": [],
   "source": [
    "unique() - метод выводли уникальные значения из dataframe\n",
    "nunique() - выводит подсчитанные уникальные значения из dataframe"
   ]
  },
  {
   "cell_type": "markdown",
   "metadata": {},
   "source": [
    "## ФИЛЬТРАЦИЯ ПОИСКА PANDAS"
   ]
  },
  {
   "cell_type": "markdown",
   "metadata": {},
   "source": [
    "1) по дате: game_events[game_events['event_date'] == '2021-01-10'] - получаем все строки, где дата события '2021-01-10'\n",
    "2) по названию уровня: game_events[game_events['level_name'] == 'level_03'] - получаем все строки, где название уровня 'level_03'\n",
    "3) по стоимости внутриигровой покупки: game_events[game_events['revenue'] > 2] - получаем все строки, где выручка больше двух."
   ]
  },
  {
   "cell_type": "markdown",
   "metadata": {},
   "source": [
    "## АГРЕГАЦИЯ ДАННЫХ PANDAS"
   ]
  },
  {
   "cell_type": "code",
   "execution_count": null,
   "metadata": {},
   "outputs": [],
   "source": [
    "1) count() - считает количество значений (не берет в расчет пустые значения)\n",
    "2) sum() - вычисляет сумму значений\n",
    "3) max() - выбирает максимальное значение\n",
    "4) min() -  выбирает минимальное значение\n",
    "5) mean() - считает среднее\n",
    "6) median() - считает медиану"
   ]
  },
  {
   "cell_type": "markdown",
   "metadata": {},
   "source": [
    "LTV (Lifetime Value) — вся прибыль от клиента за период, пока вы с ним работаете. Суть метрики — показать, оправданы ли затраты на привлечение и удержание такого клиента."
   ]
  },
  {
   "cell_type": "markdown",
   "metadata": {},
   "source": [
    "С помощью LTV можно:\n",
    "\n",
    "определить, какой тип клиентов приносит максимальную прибыль, а затем более целенаправленно проводить рекламную кампанию\n",
    "посчитать, насколько быстро окупятся затраты\n",
    "проанализировать эффективность маркетинговой стратегии и определить, через какой канал приходит больше клиентов, а следовательно, сократить затраты на неэффективную рекламу."
   ]
  },
  {
   "cell_type": "markdown",
   "metadata": {},
   "source": [
    "###CAC (Customer Acquisition Cost) — стоимость привлечения одного клиента. Эта метрика помогает выбрать наиболее результативный канал привлечения клиентов и правильно распределить бюджет. CAC считается так: расходы нужно поделить на количество пользователей.\n"
   ]
  },
  {
   "cell_type": "markdown",
   "metadata": {},
   "source": [
    "Разберем пример:\n",
    "Реклама на Google Ads стоила компании 42 000 руб. И привела 300 пользователей.\n",
    "Реклама на Facebook стоила компании 70 000 руб. И привела 650 пользователей.\n",
    "Для Google Ads CAC = 42 000 / 300 = 140 руб.\n",
    "Для Facebook CAC = 70 000 / 650 = 107,69 руб.\n",
    "По показателям CAC видно, что стоимость привлечения клиента через Facebook ниже, значит Facebook – более выгодная рекламная площадка для компании. В результате компания может перераспределить свой бюджет и выделить большую сумму на развитие рекламы именно на этой платформе."
   ]
  },
  {
   "cell_type": "markdown",
   "metadata": {},
   "source": [
    "AOV (Average Order Value) – средний чек, то есть сумма, которую в среднем тратят клиенты. Средний чек показывает, какая покупательская способность у аудитории. С помощью этого показателя можно выделить группу клиентов, у которых AOV выше, что делает её выгоднее для бизнеса, и направить рекламную кампанию именно на эту группу. Средний чек считается так: сумму полученной выручки нужно поделить на количество заказов (покупок)."
   ]
  },
  {
   "cell_type": "markdown",
   "metadata": {},
   "source": [
    "ARPU (Average Revenue Per User) – средний доход с одного активного пользователя за период. ARPU рассчитывается как доход, деленный на количество пользователей. Период может быть любым. Mожно анализировать значение этого показателя за день, за месяц, за квартал и т.д., в зависимости от постановки задачи."
   ]
  },
  {
   "cell_type": "markdown",
   "metadata": {},
   "source": [
    "ARPPU (Average Revenue Per Paying User) – средний доход с одного платящего пользователя за период. \n",
    "Как видно из определения, отличие ARPPU заключается в том, что в расчёт попадают не все пользователи, а только те, кто совершал платежи в течение периода."
   ]
  },
  {
   "cell_type": "code",
   "execution_count": 4,
   "metadata": {},
   "outputs": [
    {
     "data": {
      "text/plain": [
       "20.0"
      ]
     },
     "execution_count": 4,
     "metadata": {},
     "output_type": "execute_result"
    }
   ],
   "source": [
    "import pandas as pd\n",
    "\n",
    "events = game_events['revenue'].sum()\n",
    "users = game_events['user_id'].nunique()\n",
    "\n",
    "arpu = events / users\n",
    "\n",
    "print(arpu)"
   ]
  },
  {
   "cell_type": "code",
   "execution_count": null,
   "metadata": {},
   "outputs": [],
   "source": [
    "import pandas as pd\n",
    "\n",
    "game_events_filtered = game_events[game_events['revenue'] > 0]\n",
    "arppu = game_events['revenue'].sum() / game_events_filtered['user_id'].nunique()\n",
    "\n",
    "print(arppu)"
   ]
  },
  {
   "cell_type": "code",
   "execution_count": null,
   "metadata": {},
   "outputs": [],
   "source": [
    "# Certificate\n",
    "https://stepik.org/cert/2263656?lang=en"
   ]
  }
 ],
 "metadata": {
  "kernelspec": {
   "display_name": "venv",
   "language": "python",
   "name": "python3"
  },
  "language_info": {
   "codemirror_mode": {
    "name": "ipython",
    "version": 3
   },
   "file_extension": ".py",
   "mimetype": "text/x-python",
   "name": "python",
   "nbconvert_exporter": "python",
   "pygments_lexer": "ipython3",
   "version": "3.11.2"
  }
 },
 "nbformat": 4,
 "nbformat_minor": 2
}
