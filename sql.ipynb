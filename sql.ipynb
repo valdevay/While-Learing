{
 "cells": [
  {
   "cell_type": "markdown",
   "metadata": {},
   "source": [
    "## АГРЕГАЦИЯ ДАННЫХ"
   ]
  },
  {
   "cell_type": "code",
   "execution_count": null,
   "metadata": {},
   "outputs": [],
   "source": [
    "COUNT() – считает количество строк \n",
    "\n",
    "SUM()– считает сумму в рамках столбца  \n",
    "\n",
    "AVG()– считает среднее в рамках столбца \n",
    "\n",
    "MIN()– находит минимальное значение в рамках столбца\n",
    "\n",
    "MAX()– находит максимальное значение в рамках столбца\n",
    "\n",
    "GROUP BY - просуммировать покупки каждого пользователя по отдельности."
   ]
  }
 ],
 "metadata": {
  "kernelspec": {
   "display_name": "venv",
   "language": "python",
   "name": "python3"
  },
  "language_info": {
   "name": "python",
   "version": "3.11.2"
  }
 },
 "nbformat": 4,
 "nbformat_minor": 2
}
